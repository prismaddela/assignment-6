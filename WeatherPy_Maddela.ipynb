{
 "cells": [
  {
   "cell_type": "markdown",
   "metadata": {},
   "source": [
    "# WeatherPy\n",
    "----\n",
    "\n",
    "### Analysis\n",
    "* As expected, the weather becomes significantly warmer as one approaches the equator (0 Deg. Latitude). More interestingly, however, is the fact that the southern hemisphere tends to be warmer this time of year than the northern hemisphere. This may be due to the tilt of the earth.\n",
    "* There is no strong relationship between latitude and cloudiness. However, it is interesting to see that a strong band of cities sits at 0, 80, and 100% cloudiness.\n",
    "* There is no strong relationship between latitude and wind speed. However, in northern hemispheres there is a flurry of cities with over 20 mph of wind.\n",
    "\n",
    "---\n",
    "\n",
    "#### Note\n",
    "* Instructions have been included for each segment. You do not have to follow them exactly, but they are included to help you think through the steps."
   ]
  },
  {
   "cell_type": "code",
   "execution_count": null,
   "metadata": {
    "scrolled": true
   },
   "outputs": [],
   "source": [
    "# Dependencies and Setup\n",
    "import matplotlib.pyplot as plt\n",
    "import pandas as pd\n",
    "import numpy as np\n",
    "import requests\n",
    "import json\n",
    "import random \n",
    "import time\n",
    "from citypy import citypy\n",
    "\n",
    "# Output File (CSV)\n",
    "output_data_file = \"output_data/cities.csv\"\n",
    "\n",
    "# Import Open Weather Map API key.\n",
    "from API_key import api_key\n",
    "\n",
    "# Range of latitudes and longitudes\n",
    "lat_range = (-90, 90)\n",
    "lng_range = (-180, 180)"
   ]
  },
  {
   "cell_type": "code",
   "execution_count": null,
   "metadata": {},
   "outputs": [],
   "source": [
    "# List for holding lat_lngs and cities\n",
    "lat_lngs = []\n",
    "cities = []\n",
    "\n",
    "# Create a set of random lat and lng combinations\n",
    "lats = np.random.uniform(low=-90.000, high=90.000, size=1500)\n",
    "lngs = np.random.uniform(low=-180.000, high=180.000, size=1500)\n",
    "lat_lngs = zip(lats, lngs)\n",
    "\n",
    "# Identify nearest city for each lat, lng combination\n",
    "for lat_lng in lat_lngs:\n",
    "    city = citipy.nearest_city(lat_lng[0], lat_lng[1]).city_name\n",
    "    \n",
    "    # If the city is unique, then add it to a our cities list\n",
    "    if city not in cities:\n",
    "        cities.append(city)\n",
    "\n",
    "# Print the city count to confirm sufficient count\n",
    "len(cities)"
   ]
  },
  {
   "cell_type": "code",
   "execution_count": null,
   "metadata": {},
   "outputs": [],
   "source": [
    "column_names = [\"City\", \"Country\",\"Temperature (F)\",\n",
    "                \"Latitude\",\"Longitude\",\"Humidity (%)\",\n",
    "                \"Cloudiness (%)\", \"Wind Speed (mph)\"]\n",
    "clean_cities_df = pd.DataFrame(columns=column_names)\n",
    "\n"
   ]
  },
  {
   "cell_type": "code",
   "execution_count": null,
   "metadata": {},
   "outputs": [],
   "source": [
    " #Loop through the list of cities and add the data to the df.\n",
    "url = \"http://api.openweathermap.org/data/2.5/weather?\"\n",
    "\n",
    "row_count = 1\n",
    "\n",
    "print(\"Beginning Data Retrieval\")\n",
    "for index, row in cities_df.iterrows():\n",
    "    target_city = row[\"City\"]\n",
    "    target_url = url + \"appid=\" + api_key + \"&units=IMPERIAL\" + \"&q=\" + target_city.replace(\" \",\"+\")\n",
    "    city_data = requests.get(target_url).json()\n",
    "    if city_data[\"cod\"] == \"404\":\n",
    "        print(\"city not found\")\n",
    "\n",
    "    else:\n",
    "        clean_cities_df.set_value(index, \"City\", city_data[\"name\"])\n",
    "        clean_cities_df.set_value(index, \"Country\", city_data[\"sys\"][\"country\"])\n",
    "        clean_cities_df.set_value(index, \"Temperature (F)\", city_data[\"main\"][\"temp\"])\n",
    "        clean_cities_df.set_value(index, \"Latitude\", city_data[\"coord\"][\"lat\"])\n",
    "        clean_cities_df.set_value(index, \"Longitude\", city_data[\"coord\"][\"lon\"])\n",
    "        clean_cities_df.set_value(index, \"Humidity (%)\", city_data[\"main\"][\"humidity\"])\n",
    "        clean_cities_df.set_value(index, \"Cloudiness (%)\", city_data[\"clouds\"][\"all\"])\n",
    "        clean_cities_df.set_value(index, \"Wind Speed (mph)\", city_data[\"wind\"][\"speed\"])\n",
    "        \n",
    "        print(\"Proceesing: City # \" , row_count, ' | ' , city_data[\"name\"], city_data[\"sys\"][\"country\"])\n",
    "        print(target_url)\n",
    "        row_count += 1"
   ]
  },
  {
   "cell_type": "code",
   "execution_count": null,
   "metadata": {},
   "outputs": [],
   "source": [
    "clean_cities_df.count"
   ]
  },
  {
   "cell_type": "code",
   "execution_count": null,
   "metadata": {},
   "outputs": [],
   "source": [
    "# Save data to a CSV file\n",
    "clean_cities_df.to_csv(\"WeatherPy_analysis/City_Data.csv\")"
   ]
  }
 ],
 "metadata": {
  "anaconda-cloud": {},
  "kernel_info": {
   "name": "python3"
  },
  "kernelspec": {
   "display_name": "Python 3",
   "language": "python",
   "name": "python3"
  },
  "language_info": {
   "codemirror_mode": {
    "name": "ipython",
    "version": 3
   },
   "file_extension": ".py",
   "mimetype": "text/x-python",
   "name": "python",
   "nbconvert_exporter": "python",
   "pygments_lexer": "ipython3",
   "version": "3.7.1"
  },
  "nteract": {
   "version": "0.12.3"
  }
 },
 "nbformat": 4,
 "nbformat_minor": 2
}
